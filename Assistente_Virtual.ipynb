{
  "nbformat": 4,
  "nbformat_minor": 0,
  "metadata": {
    "colab": {
      "provenance": [],
      "gpuType": "T4",
      "authorship_tag": "ABX9TyPj0MrosBry8XVkBJOePYIq",
      "include_colab_link": true
    },
    "kernelspec": {
      "name": "python3",
      "display_name": "Python 3"
    },
    "language_info": {
      "name": "python"
    },
    "accelerator": "GPU",
    "widgets": {
      "application/vnd.jupyter.widget-state+json": {
        "e691c02448ba4b4c83e1833837fb997c": {
          "model_module": "@jupyter-widgets/controls",
          "model_name": "FileUploadModel",
          "model_module_version": "1.5.0",
          "state": {
            "_counter": 1,
            "_dom_classes": [],
            "_model_module": "@jupyter-widgets/controls",
            "_model_module_version": "1.5.0",
            "_model_name": "FileUploadModel",
            "_view_count": null,
            "_view_module": "@jupyter-widgets/controls",
            "_view_module_version": "1.5.0",
            "_view_name": "FileUploadView",
            "accept": ".wav,.mp3,.ogg,.m4a,.flac",
            "button_style": "",
            "data": [
              null
            ],
            "description": "Upload",
            "description_tooltip": null,
            "disabled": false,
            "error": "",
            "icon": "upload",
            "layout": "IPY_MODEL_3323d3e2851c4521bc8a804eab07cb3e",
            "metadata": [
              {
                "name": "abra o youtube.ogg",
                "type": "audio/ogg",
                "size": 5373,
                "lastModified": 1740263936237
              }
            ],
            "multiple": false,
            "style": "IPY_MODEL_85af0a7141e94a05b22adb22a191c7f8"
          }
        },
        "3323d3e2851c4521bc8a804eab07cb3e": {
          "model_module": "@jupyter-widgets/base",
          "model_name": "LayoutModel",
          "model_module_version": "1.2.0",
          "state": {
            "_model_module": "@jupyter-widgets/base",
            "_model_module_version": "1.2.0",
            "_model_name": "LayoutModel",
            "_view_count": null,
            "_view_module": "@jupyter-widgets/base",
            "_view_module_version": "1.2.0",
            "_view_name": "LayoutView",
            "align_content": null,
            "align_items": null,
            "align_self": null,
            "border": null,
            "bottom": null,
            "display": null,
            "flex": null,
            "flex_flow": null,
            "grid_area": null,
            "grid_auto_columns": null,
            "grid_auto_flow": null,
            "grid_auto_rows": null,
            "grid_column": null,
            "grid_gap": null,
            "grid_row": null,
            "grid_template_areas": null,
            "grid_template_columns": null,
            "grid_template_rows": null,
            "height": null,
            "justify_content": null,
            "justify_items": null,
            "left": null,
            "margin": null,
            "max_height": null,
            "max_width": null,
            "min_height": null,
            "min_width": null,
            "object_fit": null,
            "object_position": null,
            "order": null,
            "overflow": null,
            "overflow_x": null,
            "overflow_y": null,
            "padding": null,
            "right": null,
            "top": null,
            "visibility": null,
            "width": null
          }
        },
        "85af0a7141e94a05b22adb22a191c7f8": {
          "model_module": "@jupyter-widgets/controls",
          "model_name": "ButtonStyleModel",
          "model_module_version": "1.5.0",
          "state": {
            "_model_module": "@jupyter-widgets/controls",
            "_model_module_version": "1.5.0",
            "_model_name": "ButtonStyleModel",
            "_view_count": null,
            "_view_module": "@jupyter-widgets/base",
            "_view_module_version": "1.2.0",
            "_view_name": "StyleView",
            "button_color": null,
            "font_weight": ""
          }
        },
        "cf67ab69fa554adc91f7759428aa9c4d": {
          "model_module": "@jupyter-widgets/controls",
          "model_name": "FileUploadModel",
          "model_module_version": "1.5.0",
          "state": {
            "_counter": 1,
            "_dom_classes": [],
            "_model_module": "@jupyter-widgets/controls",
            "_model_module_version": "1.5.0",
            "_model_name": "FileUploadModel",
            "_view_count": null,
            "_view_module": "@jupyter-widgets/controls",
            "_view_module_version": "1.5.0",
            "_view_name": "FileUploadView",
            "accept": ".wav,.mp3,.ogg,.m4a,.flac",
            "button_style": "",
            "data": [
              null
            ],
            "description": "Upload",
            "description_tooltip": null,
            "disabled": false,
            "error": "",
            "icon": "upload",
            "layout": "IPY_MODEL_532933fc3b47447f822c72e9a4905acf",
            "metadata": [
              {
                "name": "abra o youtube.ogg",
                "type": "audio/ogg",
                "size": 5373,
                "lastModified": 1740263936237
              }
            ],
            "multiple": false,
            "style": "IPY_MODEL_445437da18934b9eb97cfd39bbd0424d"
          }
        },
        "532933fc3b47447f822c72e9a4905acf": {
          "model_module": "@jupyter-widgets/base",
          "model_name": "LayoutModel",
          "model_module_version": "1.2.0",
          "state": {
            "_model_module": "@jupyter-widgets/base",
            "_model_module_version": "1.2.0",
            "_model_name": "LayoutModel",
            "_view_count": null,
            "_view_module": "@jupyter-widgets/base",
            "_view_module_version": "1.2.0",
            "_view_name": "LayoutView",
            "align_content": null,
            "align_items": null,
            "align_self": null,
            "border": null,
            "bottom": null,
            "display": null,
            "flex": null,
            "flex_flow": null,
            "grid_area": null,
            "grid_auto_columns": null,
            "grid_auto_flow": null,
            "grid_auto_rows": null,
            "grid_column": null,
            "grid_gap": null,
            "grid_row": null,
            "grid_template_areas": null,
            "grid_template_columns": null,
            "grid_template_rows": null,
            "height": null,
            "justify_content": null,
            "justify_items": null,
            "left": null,
            "margin": null,
            "max_height": null,
            "max_width": null,
            "min_height": null,
            "min_width": null,
            "object_fit": null,
            "object_position": null,
            "order": null,
            "overflow": null,
            "overflow_x": null,
            "overflow_y": null,
            "padding": null,
            "right": null,
            "top": null,
            "visibility": null,
            "width": null
          }
        },
        "445437da18934b9eb97cfd39bbd0424d": {
          "model_module": "@jupyter-widgets/controls",
          "model_name": "ButtonStyleModel",
          "model_module_version": "1.5.0",
          "state": {
            "_model_module": "@jupyter-widgets/controls",
            "_model_module_version": "1.5.0",
            "_model_name": "ButtonStyleModel",
            "_view_count": null,
            "_view_module": "@jupyter-widgets/base",
            "_view_module_version": "1.2.0",
            "_view_name": "StyleView",
            "button_color": null,
            "font_weight": ""
          }
        }
      }
    }
  },
  "cells": [
    {
      "cell_type": "markdown",
      "metadata": {
        "id": "view-in-github",
        "colab_type": "text"
      },
      "source": [
        "<a href=\"https://colab.research.google.com/github/LeticiaHeeren/Assistente-Virtual/blob/main/Assistente_Virtual.ipynb\" target=\"_parent\"><img src=\"https://colab.research.google.com/assets/colab-badge.svg\" alt=\"Open In Colab\"/></a>"
      ]
    },
    {
      "cell_type": "code",
      "source": [
        "!pip install gTTS"
      ],
      "metadata": {
        "colab": {
          "base_uri": "https://localhost:8080/"
        },
        "id": "SdYjPBsF_ECW",
        "outputId": "b386588f-aca6-452a-e5ca-6a8277029605"
      },
      "execution_count": 14,
      "outputs": [
        {
          "output_type": "stream",
          "name": "stdout",
          "text": [
            "Requirement already satisfied: gTTS in /usr/local/lib/python3.11/dist-packages (2.5.4)\n",
            "Requirement already satisfied: requests<3,>=2.27 in /usr/local/lib/python3.11/dist-packages (from gTTS) (2.32.3)\n",
            "Requirement already satisfied: click<8.2,>=7.1 in /usr/local/lib/python3.11/dist-packages (from gTTS) (8.1.8)\n",
            "Requirement already satisfied: charset-normalizer<4,>=2 in /usr/local/lib/python3.11/dist-packages (from requests<3,>=2.27->gTTS) (3.4.1)\n",
            "Requirement already satisfied: idna<4,>=2.5 in /usr/local/lib/python3.11/dist-packages (from requests<3,>=2.27->gTTS) (3.10)\n",
            "Requirement already satisfied: urllib3<3,>=1.21.1 in /usr/local/lib/python3.11/dist-packages (from requests<3,>=2.27->gTTS) (2.3.0)\n",
            "Requirement already satisfied: certifi>=2017.4.17 in /usr/local/lib/python3.11/dist-packages (from requests<3,>=2.27->gTTS) (2024.12.14)\n"
          ]
        }
      ]
    },
    {
      "cell_type": "code",
      "source": [
        "from gtts import gTTS\n",
        "from IPython.display import Audio\n",
        "\n",
        "texto = \"Olá, isso é um teste de conversão de texto para áudio.\"\n",
        "\n",
        "tts = gTTS(texto, lang='pt')\n",
        "caminho_arquivo = \"/content/audio.mp3\"\n",
        "tts.save(caminho_arquivo)\n",
        "\n",
        "Audio(caminho_arquivo, autoplay=True)"
      ],
      "metadata": {
        "colab": {
          "base_uri": "https://localhost:8080/",
          "height": 75
        },
        "id": "Kwgau0O_-Bv0",
        "outputId": "73c7febf-d0ba-4083-da00-3bc41a23fe03"
      },
      "execution_count": 15,
      "outputs": [
        {
          "output_type": "execute_result",
          "data": {
            "text/plain": [
              "<IPython.lib.display.Audio object>"
            ],
            "text/html": [
              "\n",
              "                <audio  controls=\"controls\" autoplay=\"autoplay\">\n",
              "                    <source src=\"data:audio/mpeg;base64,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\" type=\"audio/mpeg\" />\n",
              "                    Your browser does not support the audio element.\n",
              "                </audio>\n",
              "              "
            ]
          },
          "metadata": {},
          "execution_count": 15
        }
      ]
    },
    {
      "cell_type": "code",
      "source": [
        "import speech_recognition as sr\n",
        "import os\n",
        "import ipywidgets as widgets\n",
        "from google.colab import files\n",
        "from pydub import AudioSegment\n",
        "\n",
        "uploader = widgets.FileUpload(accept='.wav,.mp3,.ogg,.m4a,.flac', multiple=False)\n",
        "display(uploader)\n",
        "\n",
        "def salvar_audio(change):\n",
        "    if not uploader.value:\n",
        "        print(\"Nenhum arquivo enviado.\")\n",
        "        return None\n",
        "\n",
        "    for nome_arquivo, arquivo_info in uploader.value.items():\n",
        "        caminho = f\"/content/{nome_arquivo}\"\n",
        "        with open(caminho, \"wb\") as f:\n",
        "            f.write(arquivo_info['content'])\n",
        "        print(f\"✓ Áudio salvo: {caminho}\")\n",
        "        return caminho\n",
        "\n",
        "    print(\"Nenhum arquivo válido enviado.\")\n",
        "    return None\n",
        "\n",
        "def converter_para_wav(caminho):\n",
        "    formato = caminho.split('.')[-1]\n",
        "    novo_caminho = \"/content/audio.wav\"\n",
        "\n",
        "    try:\n",
        "        audio = AudioSegment.from_file(caminho, format=formato)\n",
        "        audio.export(novo_caminho, format=\"wav\")\n",
        "        print(f\"✓ Convertido para WAV: {novo_caminho}\")\n",
        "        return novo_caminho\n",
        "    except Exception as e:\n",
        "        print(f\"Erro na conversão: {str(e)}\")\n",
        "        return None\n",
        "\n",
        "def transcrever_audio(caminho_wav):\n",
        "    try:\n",
        "        r = sr.Recognizer()\n",
        "        with sr.AudioFile(caminho_wav) as fonte:\n",
        "            audio = r.record(fonte)\n",
        "            texto = r.recognize_google(audio, language='pt-BR')\n",
        "            print(f\"🎙 Transcrição: {texto}\")\n",
        "            return texto\n",
        "    except Exception as e:\n",
        "        print(f\"Erro na transcrição: {str(e)}\")\n",
        "        return \"\"\n",
        "\n",
        "uploader.observe(lambda change: processar_audio(), names='value')\n",
        "\n",
        "def processar_audio():\n",
        "    caminho_audio = salvar_audio(None)\n",
        "    if caminho_audio:\n",
        "        caminho_wav = converter_para_wav(caminho_audio)\n",
        "        if caminho_wav:\n",
        "            texto_final = transcrever_audio(caminho_wav)\n",
        "            print(\"\\nResultado final:\", texto_final if texto_final else \"Nenhum áudio detectado\")\n",
        "\n",
        "print(\"Faça o upload do seu áudio!\")\n",
        "\n"
      ],
      "metadata": {
        "colab": {
          "base_uri": "https://localhost:8080/",
          "height": 153,
          "referenced_widgets": [
            "e691c02448ba4b4c83e1833837fb997c",
            "3323d3e2851c4521bc8a804eab07cb3e",
            "85af0a7141e94a05b22adb22a191c7f8"
          ]
        },
        "id": "zn0FPMsc9lZc",
        "outputId": "436824a0-3ed9-4478-a7c8-94dff538bb8a"
      },
      "execution_count": 16,
      "outputs": [
        {
          "output_type": "display_data",
          "data": {
            "text/plain": [
              "FileUpload(value={}, accept='.wav,.mp3,.ogg,.m4a,.flac', description='Upload')"
            ],
            "application/vnd.jupyter.widget-view+json": {
              "version_major": 2,
              "version_minor": 0,
              "model_id": "e691c02448ba4b4c83e1833837fb997c"
            }
          },
          "metadata": {}
        },
        {
          "output_type": "stream",
          "name": "stdout",
          "text": [
            "Faça o upload do seu áudio!\n",
            "✓ Áudio salvo: /content/abra o youtube.ogg\n",
            "✓ Convertido para WAV: /content/audio.wav\n",
            "🎙 Transcrição: Abra o YouTube\n",
            "\n",
            "Resultado final: Abra o YouTube\n"
          ]
        }
      ]
    },
    {
      "cell_type": "code",
      "source": [
        "import speech_recognition as sr\n",
        "import ipywidgets as widgets\n",
        "from IPython.display import display, HTML\n",
        "from pydub import AudioSegment\n",
        "import re\n",
        "\n",
        "uploader = widgets.FileUpload(accept='.wav,.mp3,.ogg,.m4a,.flac', multiple=False)\n",
        "display(uploader)\n",
        "\n",
        "def salvar_audio():\n",
        "    if not uploader.value:\n",
        "        print(\"Nenhum arquivo enviado.\")\n",
        "        return None\n",
        "\n",
        "    for nome_arquivo, arquivo_info in uploader.value.items():\n",
        "        caminho = f\"/content/{nome_arquivo}\"\n",
        "        with open(caminho, \"wb\") as f:\n",
        "            f.write(arquivo_info['content'])\n",
        "        print(f\"✓ Áudio salvo: {caminho}\")\n",
        "        return caminho\n",
        "\n",
        "    print(\"Nenhum arquivo válido enviado.\")\n",
        "    return None\n",
        "\n",
        "def converter_para_wav(caminho):\n",
        "    formato = caminho.split('.')[-1]\n",
        "    novo_caminho = \"/content/audio.wav\"\n",
        "\n",
        "    try:\n",
        "        audio = AudioSegment.from_file(caminho, format=formato)\n",
        "        audio.export(novo_caminho, format=\"wav\")\n",
        "        print(f\"✓ Convertido para WAV: {novo_caminho}\")\n",
        "        return novo_caminho\n",
        "    except Exception as e:\n",
        "        print(f\"Erro na conversão: {str(e)}\")\n",
        "        return None\n",
        "\n",
        "def transcrever_audio(caminho_wav):\n",
        "    try:\n",
        "        r = sr.Recognizer()\n",
        "        with sr.AudioFile(caminho_wav) as fonte:\n",
        "            audio = r.record(fonte)\n",
        "            texto = r.recognize_google(audio, language='pt-BR')\n",
        "            print(f\"🎙 Transcrição: {texto}\")\n",
        "            return texto\n",
        "    except Exception as e:\n",
        "        print(f\"Erro na transcrição: {str(e)}\")\n",
        "        return \"\"\n",
        "\n",
        "def gerar_link_comando(comando):\n",
        "    comando = comando.lower()\n",
        "\n",
        "    links_comandos = {\n",
        "        \"youtube\": \"https://www.youtube.com/\",\n",
        "        \"wikipedia\": \"https://pt.wikipedia.org/wiki/Wikip%C3%A9dia:P%C3%A1gina_principal\",\n",
        "        \"google\": \"https://www.google.com.br/\",\n",
        "        \"facebook\": \"https://www.facebook.com/\",\n",
        "        \"instagram\": \"https://www.instagram.com/\"\n",
        "    }\n",
        "\n",
        "    for palavra, link in links_comandos.items():\n",
        "        if re.search(r'\\b' + re.escape(palavra) + r'\\b', comando):\n",
        "            return f\"<a href='{link}' target='_blank'>{palavra.capitalize()}</a>\"\n",
        "\n",
        "    return \"Comando não reconhecido. Tente novamente.\"\n",
        "\n",
        "def processar_audio():\n",
        "    caminho_audio = salvar_audio()\n",
        "    if caminho_audio:\n",
        "        caminho_wav = converter_para_wav(caminho_audio)\n",
        "        if caminho_wav:\n",
        "            texto_final = transcrever_audio(caminho_wav)\n",
        "            print(\"\\nResultado final:\", texto_final if texto_final else \"Nenhum áudio detectado\")\n",
        "            link_gerado = gerar_link_comando(texto_final)\n",
        "            display(HTML(f\"🔗 {link_gerado}\"))\n",
        "\n",
        "uploader.observe(lambda change: processar_audio(), names='value')\n",
        "\n",
        "print(\"Faça o upload do seu áudio!\")\n"
      ],
      "metadata": {
        "colab": {
          "base_uri": "https://localhost:8080/",
          "height": 170,
          "referenced_widgets": [
            "cf67ab69fa554adc91f7759428aa9c4d",
            "532933fc3b47447f822c72e9a4905acf",
            "445437da18934b9eb97cfd39bbd0424d"
          ]
        },
        "id": "fa7eACl2AyyO",
        "outputId": "7781ed55-68c9-4887-ec37-eb7fe66a6adb"
      },
      "execution_count": 18,
      "outputs": [
        {
          "output_type": "display_data",
          "data": {
            "text/plain": [
              "FileUpload(value={}, accept='.wav,.mp3,.ogg,.m4a,.flac', description='Upload')"
            ],
            "application/vnd.jupyter.widget-view+json": {
              "version_major": 2,
              "version_minor": 0,
              "model_id": "cf67ab69fa554adc91f7759428aa9c4d"
            }
          },
          "metadata": {}
        },
        {
          "output_type": "stream",
          "name": "stdout",
          "text": [
            "Faça o upload do seu áudio!\n",
            "✓ Áudio salvo: /content/abra o youtube.ogg\n",
            "✓ Convertido para WAV: /content/audio.wav\n",
            "🎙 Transcrição: Abra o YouTube\n",
            "\n",
            "Resultado final: Abra o YouTube\n"
          ]
        },
        {
          "output_type": "display_data",
          "data": {
            "text/plain": [
              "<IPython.core.display.HTML object>"
            ],
            "text/html": [
              "🔗 <a href='https://www.youtube.com/' target='_blank'>Youtube</a>"
            ]
          },
          "metadata": {}
        }
      ]
    }
  ]
}